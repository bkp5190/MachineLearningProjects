{
 "cells": [
  {
   "cell_type": "code",
   "execution_count": 139,
   "metadata": {},
   "outputs": [
    {
     "name": "stdout",
     "output_type": "stream",
     "text": [
      "[0 0 0 0 0 0 0 0 0 0 0 0 0 0 0 0 0 0 0 0 0 0 0 0 0 0 0 0 0 0 0 0 0 0 0 0 0\n",
      " 0 0 0 0 0 0 0 0 0 0 0 0 0 1 1 1 1 1 1 1 1 1 1 1 1 1 1 1 1 1 1 1 1 1 1 1 1\n",
      " 1 1 1 1 1 1 1 1 1 1 1 1 1 1 1 1 1 1 1 1 1 1 1 1 1 1 2 2 2 2 2 2 2 2 2 2 2\n",
      " 2 2 2 2 2 2 2 2 2 2 2 2 2 2 2 2 2 2 2 2 2 2 2 2 2 2 2 2 2 2 2 2 2 2 2 2 2\n",
      " 2 2]\n"
     ]
    }
   ],
   "source": [
    "from sklearn.datasets import load_iris\n",
    "from sklearn.decomposition import PCA\n",
    "import numpy as np\n",
    "import pandas as pd\n",
    "iris = load_iris()\n",
    "X = iris.data\n",
    "y = iris.target\n",
    "print(y)\n",
    "m = X.shape[0]\n",
    "n = X.shape[1]"
   ]
  },
  {
   "cell_type": "code",
   "execution_count": 140,
   "metadata": {
    "scrolled": true
   },
   "outputs": [
    {
     "name": "stdout",
     "output_type": "stream",
     "text": [
      "     principal component 1\n",
      "0                -2.684126\n",
      "1                -2.714142\n",
      "2                -2.888991\n",
      "3                -2.745343\n",
      "4                -2.728717\n",
      "..                     ...\n",
      "145               1.944110\n",
      "146               1.527167\n",
      "147               1.764346\n",
      "148               1.900942\n",
      "149               1.390189\n",
      "\n",
      "[150 rows x 1 columns]\n",
      "[0.92461872]\n"
     ]
    }
   ],
   "source": [
    "# Carry out a principal component analysis on the entire rawdataset k=1 component.\n",
    "pca = PCA(n_components=1)\n",
    "principalComponents = pca.fit_transform(X)\n",
    "principalDf = pd.DataFrame(data = principalComponents\n",
    "             , columns = ['principal component 1'])\n",
    "print(principalDf)\n",
    "print(pca.explained_variance_ratio_)"
   ]
  },
  {
   "cell_type": "code",
   "execution_count": 141,
   "metadata": {
    "scrolled": true
   },
   "outputs": [
    {
     "name": "stdout",
     "output_type": "stream",
     "text": [
      "     principal component 1  principal component 2\n",
      "0                -2.684126               0.319397\n",
      "1                -2.714142              -0.177001\n",
      "2                -2.888991              -0.144949\n",
      "3                -2.745343              -0.318299\n",
      "4                -2.728717               0.326755\n",
      "..                     ...                    ...\n",
      "145               1.944110               0.187532\n",
      "146               1.527167              -0.375317\n",
      "147               1.764346               0.078859\n",
      "148               1.900942               0.116628\n",
      "149               1.390189              -0.282661\n",
      "\n",
      "[150 rows x 2 columns]\n",
      "[0.92461872 0.05306648]\n"
     ]
    }
   ],
   "source": [
    "# Carry out a principal component analysis on the entire rawdataset k=2 components.\n",
    "pca = PCA(n_components=2)\n",
    "principalComponents = pca.fit_transform(X)\n",
    "principalDf = pd.DataFrame(data = principalComponents\n",
    "             , columns = ['principal component 1', 'principal component 2'])\n",
    "print(principalDf)\n",
    "print(pca.explained_variance_ratio_)"
   ]
  },
  {
   "cell_type": "code",
   "execution_count": 142,
   "metadata": {},
   "outputs": [
    {
     "name": "stdout",
     "output_type": "stream",
     "text": [
      "     principal component 1  principal component 2  principal component 3\n",
      "0                -2.684126               0.319397              -0.027915\n",
      "1                -2.714142              -0.177001              -0.210464\n",
      "2                -2.888991              -0.144949               0.017900\n",
      "3                -2.745343              -0.318299               0.031559\n",
      "4                -2.728717               0.326755               0.090079\n",
      "..                     ...                    ...                    ...\n",
      "145               1.944110               0.187532               0.177825\n",
      "146               1.527167              -0.375317              -0.121898\n",
      "147               1.764346               0.078859               0.130482\n",
      "148               1.900942               0.116628               0.723252\n",
      "149               1.390189              -0.282661               0.362910\n",
      "\n",
      "[150 rows x 3 columns]\n",
      "[0.92461872 0.05306648 0.01710261]\n"
     ]
    }
   ],
   "source": [
    "# Carry out a principal component analysis on the entire rawdataset k=3 components.\n",
    "pca = PCA(n_components=3)\n",
    "principalComponents = pca.fit_transform(X)\n",
    "principalDf = pd.DataFrame(data = principalComponents\n",
    "             , columns = ['principal component 1', 'principal component 2', 'principal component 3'])\n",
    "print(principalDf)\n",
    "print(pca.explained_variance_ratio_)"
   ]
  },
  {
   "cell_type": "code",
   "execution_count": 143,
   "metadata": {
    "scrolled": true
   },
   "outputs": [
    {
     "name": "stdout",
     "output_type": "stream",
     "text": [
      "     principal component 1  principal component 2  principal component 3  \\\n",
      "0                -2.684126               0.319397              -0.027915   \n",
      "1                -2.714142              -0.177001              -0.210464   \n",
      "2                -2.888991              -0.144949               0.017900   \n",
      "3                -2.745343              -0.318299               0.031559   \n",
      "4                -2.728717               0.326755               0.090079   \n",
      "..                     ...                    ...                    ...   \n",
      "145               1.944110               0.187532               0.177825   \n",
      "146               1.527167              -0.375317              -0.121898   \n",
      "147               1.764346               0.078859               0.130482   \n",
      "148               1.900942               0.116628               0.723252   \n",
      "149               1.390189              -0.282661               0.362910   \n",
      "\n",
      "     principal component 4  \n",
      "0                -0.002262  \n",
      "1                -0.099027  \n",
      "2                -0.019968  \n",
      "3                 0.075576  \n",
      "4                 0.061259  \n",
      "..                     ...  \n",
      "145              -0.426196  \n",
      "146              -0.254367  \n",
      "147              -0.137001  \n",
      "148              -0.044595  \n",
      "149               0.155039  \n",
      "\n",
      "[150 rows x 4 columns]\n",
      "[0.92461872 0.05306648 0.01710261 0.00521218]\n"
     ]
    }
   ],
   "source": [
    "# Carry out a principal component analysis on the entire rawdataset k=4 components.\n",
    "pca = PCA(n_components=4)\n",
    "principalComponents = pca.fit_transform(X)\n",
    "principalDf = pd.DataFrame(data = principalComponents\n",
    "             , columns = ['principal component 1', 'principal component 2', 'principal component 3', 'principal component 4'])\n",
    "print(principalDf)\n",
    "print(pca.explained_variance_ratio_)"
   ]
  },
  {
   "cell_type": "markdown",
   "metadata": {},
   "source": [
    "How much of variance in data can be explained by the first principal component?\n",
    "After calling the pce.explained_variance_ratio_ method, we can see that the first principal component accounts for \n",
    "92.461872% of the variance in the data"
   ]
  },
  {
   "cell_type": "markdown",
   "metadata": {},
   "source": [
    "How does the fraction of variation explained in data vary askvaries?\n",
    "As k, the number of principal components increases, the percentage of information observed from the data increases as\n",
    "well: k=1: 92.461872%, k=2: 97.76852%, k=3: 99.478781%, k=4: 99.999999%"
   ]
  },
  {
   "cell_type": "code",
   "execution_count": 144,
   "metadata": {},
   "outputs": [
    {
     "name": "stdout",
     "output_type": "stream",
     "text": [
      "[5.84333333 3.05733333 3.758      1.19933333]\n"
     ]
    }
   ],
   "source": [
    "#(a)  Centering or mean removal and (c) Standardization\n",
    "from sklearn.preprocessing import StandardScaler\n",
    "\n",
    "col_mean = np.zeros(n)\n",
    "\n",
    "for j in range(0, n): \n",
    "    for i in range(0, m):\n",
    "        col_mean[j] += X[i][j]\n",
    "        \n",
    "final_array = col_mean/m\n",
    "print(final_array)\n",
    "\n",
    "for j in range(0, n): \n",
    "    for i in range(0, m):\n",
    "        X[i][j] -= final_array[j]\n",
    "\n",
    "X = StandardScaler().fit_transform(X)"
   ]
  },
  {
   "cell_type": "code",
   "execution_count": 145,
   "metadata": {},
   "outputs": [
    {
     "name": "stdout",
     "output_type": "stream",
     "text": [
      "     principal component 1\n",
      "0                -2.264703\n",
      "1                -2.080961\n",
      "2                -2.364229\n",
      "3                -2.299384\n",
      "4                -2.389842\n",
      "..                     ...\n",
      "145               1.870503\n",
      "146               1.564580\n",
      "147               1.521170\n",
      "148               1.372788\n",
      "149               0.960656\n",
      "\n",
      "[150 rows x 1 columns]\n",
      "[0.72962445]\n"
     ]
    }
   ],
   "source": [
    "# Carry out a principal component analysis on the entire rawdataset k=1 component.\n",
    "pca = PCA(n_components=1)\n",
    "principalComponents = pca.fit_transform(X)\n",
    "principalDf = pd.DataFrame(data = principalComponents\n",
    "             , columns = ['principal component 1'])\n",
    "print(principalDf)\n",
    "print(pca.explained_variance_ratio_)"
   ]
  },
  {
   "cell_type": "code",
   "execution_count": 146,
   "metadata": {},
   "outputs": [
    {
     "name": "stdout",
     "output_type": "stream",
     "text": [
      "     principal component 1  principal component 2\n",
      "0                -2.264703               0.480027\n",
      "1                -2.080961              -0.674134\n",
      "2                -2.364229              -0.341908\n",
      "3                -2.299384              -0.597395\n",
      "4                -2.389842               0.646835\n",
      "..                     ...                    ...\n",
      "145               1.870503               0.386966\n",
      "146               1.564580              -0.896687\n",
      "147               1.521170               0.269069\n",
      "148               1.372788               1.011254\n",
      "149               0.960656              -0.024332\n",
      "\n",
      "[150 rows x 2 columns]\n",
      "[0.72962445 0.22850762]\n"
     ]
    }
   ],
   "source": [
    "# Carry out a principal component analysis on the entire rawdataset k=2 components.\n",
    "pca = PCA(n_components=2)\n",
    "principalComponents = pca.fit_transform(X)\n",
    "principalDf = pd.DataFrame(data = principalComponents\n",
    "             , columns = ['principal component 1', 'principal component 2'])\n",
    "print(principalDf)\n",
    "print(pca.explained_variance_ratio_)"
   ]
  },
  {
   "cell_type": "code",
   "execution_count": 147,
   "metadata": {},
   "outputs": [
    {
     "name": "stdout",
     "output_type": "stream",
     "text": [
      "     principal component 1  principal component 2  principal component 3\n",
      "0                -2.264703               0.480027              -0.127706\n",
      "1                -2.080961              -0.674134              -0.234609\n",
      "2                -2.364229              -0.341908               0.044201\n",
      "3                -2.299384              -0.597395               0.091290\n",
      "4                -2.389842               0.646835               0.015738\n",
      "..                     ...                    ...                    ...\n",
      "145               1.870503               0.386966               0.256274\n",
      "146               1.564580              -0.896687              -0.026371\n",
      "147               1.521170               0.269069               0.180178\n",
      "148               1.372788               1.011254               0.933395\n",
      "149               0.960656              -0.024332               0.528249\n",
      "\n",
      "[150 rows x 3 columns]\n",
      "[0.72962445 0.22850762 0.03668922]\n"
     ]
    }
   ],
   "source": [
    "# Carry out a principal component analysis on the entire rawdataset k=3 components.\n",
    "pca = PCA(n_components=3)\n",
    "principalComponents = pca.fit_transform(X)\n",
    "principalDf = pd.DataFrame(data = principalComponents\n",
    "             , columns = ['principal component 1', 'principal component 2', 'principal component 3'])\n",
    "print(principalDf)\n",
    "print(pca.explained_variance_ratio_)"
   ]
  },
  {
   "cell_type": "code",
   "execution_count": 148,
   "metadata": {},
   "outputs": [
    {
     "name": "stdout",
     "output_type": "stream",
     "text": [
      "     principal component 1  principal component 2  principal component 3  \\\n",
      "0                -2.264703               0.480027              -0.127706   \n",
      "1                -2.080961              -0.674134              -0.234609   \n",
      "2                -2.364229              -0.341908               0.044201   \n",
      "3                -2.299384              -0.597395               0.091290   \n",
      "4                -2.389842               0.646835               0.015738   \n",
      "..                     ...                    ...                    ...   \n",
      "145               1.870503               0.386966               0.256274   \n",
      "146               1.564580              -0.896687              -0.026371   \n",
      "147               1.521170               0.269069               0.180178   \n",
      "148               1.372788               1.011254               0.933395   \n",
      "149               0.960656              -0.024332               0.528249   \n",
      "\n",
      "     principal component 4  \n",
      "0                -0.024168  \n",
      "1                -0.103007  \n",
      "2                -0.028377  \n",
      "3                 0.065956  \n",
      "4                 0.035923  \n",
      "..                     ...  \n",
      "145              -0.389257  \n",
      "146              -0.220192  \n",
      "147              -0.119171  \n",
      "148              -0.026129  \n",
      "149               0.163078  \n",
      "\n",
      "[150 rows x 4 columns]\n",
      "[0.72962445 0.22850762 0.03668922 0.00517871]\n"
     ]
    }
   ],
   "source": [
    "# Carry out a principal component analysis on the entire rawdataset k=4 components.\n",
    "pca = PCA(n_components=4)\n",
    "principalComponents = pca.fit_transform(X)\n",
    "principalDf = pd.DataFrame(data = principalComponents\n",
    "             , columns = ['principal component 1', 'principal component 2', 'principal component 3', 'principal component 4'])\n",
    "print(principalDf)\n",
    "print(pca.explained_variance_ratio_)"
   ]
  },
  {
   "cell_type": "markdown",
   "metadata": {},
   "source": [
    "Explain any differences you observe compared to part (a) and justify.\n",
    " \n",
    "In comparison to the results from part (a), the values within the principal components from k=1 to k=4 change as well as the percentage of variance observed by each component changes as well. For starters, when looking at principal component 1 from part (a), the first new values are:\n",
    "\n",
    "0                -2.684126\n",
    "1                -2.714142\n",
    "2                -2.888991\n",
    "3                -2.745343\n",
    "4                -2.728717\n",
    "\n",
    "while for principal component 1 from part (c), the first few values are:\n",
    "\n",
    "0                -2.264703\n",
    "1                -2.080961\n",
    "2                -2.364229\n",
    "3                -2.299384\n",
    "4                -2.389842\n",
    "\n",
    "Clearly, we can see that the component values will continue to be slightly different as k is increased. Along with these numbers being different after preprocessing through mean removal and Standardization, the percentage of variance drastically changes. The first component no longer holds as much of the majority of the variance as before. For part (a) we had:\n",
    "\n",
    "Principal Component 1 % of Variance: 0.92461872\n",
    "Principal Component 2 % of Variance: 0.05306648\n",
    "Principal Component 3 % of Variance: 0.01710261\n",
    "Principal Component 4 % of Variance: 0.00521218\n",
    "\n",
    "Totals for each k-value on variance:\n",
    "k=1: 92.461872%, k=2: 97.76852%, k=3: 99.478781%, k=4: 99.999999%\n",
    "\n",
    "while for part (c) we had:\n",
    "\n",
    "Principal Component 1 % of Variance: 0.72962445\n",
    "Principal Component 2 % of Variance: 0.22850762\n",
    "Principal Component 3 % of Variance: 0.03668922\n",
    "Principal Component 4 % of Variance: 0.00517871\n",
    "\n",
    "Totals for each k-value on variance:\n",
    "k=1: 72.962445%, k=2: 95.813207%, k=3: 99.482129%, k=4: 100%\n",
    "\n",
    "\n",
    "Justification-\n",
    "The general idea of the PCA algorithm is to reduce variance which is accomplished when the data is preprocessed to newer data with less dissimilarities with the rest. By having less percentage of data being represented by the first principal component, more can be represented by k=3 components when preprocessed data is used. Without preprocessing, 99.999999% of the data is represented by k=4 principal components, while with preprocessing a complete 100% is represented.\n"
   ]
  },
  {
   "cell_type": "code",
   "execution_count": 149,
   "metadata": {
    "scrolled": true
   },
   "outputs": [
    {
     "data": {
      "image/png": "[encoded data removed]",
      "text/plain": [
       "<Figure size 576x576 with 1 Axes>"
      ]
     },
     "metadata": {
      "needs_background": "light"
     },
     "output_type": "display_data"
    }
   ],
   "source": [
    "# Project the raw four dimensional data down to a two dimensional subspace generated by first two top principle\n",
    "# components (PCs) from part (b) and produce a scatter plot of the data.\n",
    "\n",
    "import pandas as pd\n",
    "from sklearn.decomposition import PCA\n",
    "\n",
    "finals = []\n",
    "for i in y:\n",
    "    if i == 0:\n",
    "        finals.append('Iris-setosa')\n",
    "    if i == 1:\n",
    "        finals.append('Iris-versicolor')\n",
    "    if i == 2:\n",
    "        finals.append('Iris-virginica') \n",
    "\n",
    "finals = pd.DataFrame(finals, columns=['Target'])\n",
    "finalDf = pd.concat([principalDf, finals], axis = 1)\n",
    "\n",
    "fig = plt.figure(figsize = (8,8))\n",
    "targets = ['Iris-setosa', 'Iris-versicolor', 'Iris-virginica']\n",
    "colors = ['g', 'y', 'c']\n",
    "\n",
    "ax = fig.add_subplot(1,1,1) \n",
    "ax.set_xlabel('Principal Component 1', fontsize = 15)\n",
    "ax.set_ylabel('Principal Component 2', fontsize = 15)\n",
    "ax.set_title('2 component PCA', fontsize = 20)\n",
    "\n",
    "\n",
    "for target, color in zip(targets,colors):\n",
    "    indicesToKeep = finalDf['Target'] == target\n",
    "    ax.scatter(finalDf.loc[indicesToKeep, 'principal component 1']\n",
    "               , finalDf.loc[indicesToKeep, 'principal component 2']\n",
    "               , c = color\n",
    "               , s = 50)\n",
    "\n",
    "ax.legend(targets)\n",
    "ax.grid()\n"
   ]
  },
  {
   "cell_type": "raw",
   "metadata": {},
   "source": [
    "From the scatter plot above, we can clearly see three different colored clusters for each label: Iris-setosa, Iris-versicolor, Iris-virginica."
   ]
  },
  {
   "cell_type": "code",
   "execution_count": 153,
   "metadata": {},
   "outputs": [
    {
     "data": {
      "image/png": "[encoded data removed]",
      "text/plain": [
       "<Figure size 576x576 with 1 Axes>"
      ]
     },
     "metadata": {
      "needs_background": "light"
     },
     "output_type": "display_data"
    }
   ],
   "source": [
    "# Either use your k-means++ implementation from previous homework or from scikit-learn to cluster data from part (c)\n",
    "# into three clusters. \n",
    "\n",
    "from sklearn.cluster import KMeans\n",
    "import pandas as pd\n",
    "from sklearn.decomposition import PCA\n",
    "\n",
    "finals = []\n",
    "for i in y:\n",
    "    if i == 0:\n",
    "        finals.append('Iris-setosa')\n",
    "    if i == 1:\n",
    "        finals.append('Iris-versicolor')\n",
    "    if i == 2:\n",
    "        finals.append('Iris-virginica') \n",
    "\n",
    "finals = pd.DataFrame(finals, columns=['Target'])\n",
    "finalDf = pd.concat([principalDf, finals], axis = 1)\n",
    "\n",
    "fig = plt.figure(figsize = (8,8))\n",
    "targets = ['Iris-setosa', 'Iris-versicolor', 'Iris-virginica']\n",
    "colors = ['g', 'y', 'c']\n",
    "\n",
    "ax = fig.add_subplot(1,1,1) \n",
    "ax.set_xlabel('Principal Component 1', fontsize = 15)\n",
    "ax.set_ylabel('Principal Component 2', fontsize = 15)\n",
    "ax.set_title('2 component PCA', fontsize = 20)\n",
    "km = KMeans(n_clusters=3, init='k-means++', max_iter=400).fit(X)\n",
    "\"\"\"\"\n",
    "for target, color in zip(targets,colors):\n",
    "    indicesToKeep = finalDf['Target'] == target\n",
    "    ax.scatter(finalDf.loc[indicesToKeep, 'principal component 1']\n",
    "               , finalDf.loc[indicesToKeep, 'principal component 2']\n",
    "               , c = color\n",
    "               , s = 50)\n",
    "\"\"\"\n",
    "y_km = km.fit_predict(X)\n",
    "# Plot the centers\n",
    "#plt.scatter(X[:, 0], X[:, 1], c=km.labels)\n",
    "plt.scatter(X[y_km==0, 0], X[y_km==0, 1], s=100, c='red', label ='Cluster 1')\n",
    "plt.scatter(X[y_km==1, 0], X[y_km==1, 1], s=100, c='blue', label ='Cluster 2')\n",
    "plt.scatter(X[y_km==2, 0], X[y_km==2, 1], s=100, c='green', label ='Cluster 3')\n",
    "ax.scatter(km.cluster_centers_[:, 0], km.cluster_centers_[:, 1], s=10, c='black', label = 'Centroids')\n",
    "ax.legend(targets)\n",
    "ax.grid()"
   ]
  },
  {
   "cell_type": "code",
   "execution_count": null,
   "metadata": {},
   "outputs": [],
   "source": []
  }
 ],
 "metadata": {
  "kernelspec": {
   "display_name": "Python 3",
   "language": "python",
   "name": "python3"
  },
  "language_info": {
   "codemirror_mode": {
    "name": "ipython",
    "version": 3
   },
   "file_extension": ".py",
   "mimetype": "text/x-python",
   "name": "python",
   "nbconvert_exporter": "python",
   "pygments_lexer": "ipython3",
   "version": "3.8.5"
  }
 },
 "nbformat": 4,
 "nbformat_minor": 4
}
