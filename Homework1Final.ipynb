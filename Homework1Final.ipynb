{
 "cells": [
  {
   "cell_type": "markdown",
   "metadata": {},
   "source": [
    "# CMPSC 448: Homewrok #1\n",
    "# Exploratory Data Analysis with `pandas`\n",
    "\n",
    "## Objectives\n",
    "\n",
    "In this assignment, you are asked to analyze the UCI Adult data set containing demographic information about the US residents. This data was extracted from the census bureau database found at\n",
    "\n",
    "http://www.census.gov/ftp/pub/DES/www/welcome.html\n",
    "\n",
    "The features of data with possible values of each feature are listed below:\n",
    "\n",
    "| Feature Name| Possible Values  |\n",
    "|------|------|\n",
    "| age | continuous|\n",
    "| workclass| Private, Self-emp-not-inc, Self-emp-inc, Federal-gov, Local-gov, State-gov, Without-pay, Never-worked|\n",
    "| fnlwgt| continuous|\n",
    "| education | Bachelors, Some-college, 11th, HS-grad, Prof-school, Assoc-acdm, Assoc-voc, 9th, 7th-8th, 12th, Masters, 1st-4th, 10th, Doctorate, 5th-6th, Preschool|\n",
    "|education_num | continuous|\n",
    "|marital_status | Married-civ-spouse, Divorced, Never-married, Separated, Widowed, Married-spouse-absent, Married-AF-spouse|\n",
    "|occupation | Tech-support, Craft-repair, Other-service, Sales, Exec-managerial, Prof-specialty, Handlers-cleaners, Machine-op-inspct, Adm-clerical, Farming-fishing, Transport-moving, Priv-house-serv, Protective-serv, Armed-Forces|\n",
    "|relationship | Wife, Own-child, Husband, Not-in-family, Other-relative, Unmarried |\n",
    "|race | White, Asian-Pac-Islander, Amer-Indian-Eskimo, Other, Black|\n",
    "|sex | Female, Male|\n",
    "|capital_gain| continuous|\n",
    "|capital_loss | continuous|\n",
    "|hours-per-week | continuous |\n",
    "|native-country | United-States, Cambodia, England, Puerto-Rico, Canada, Germany, Outlying-US(Guam-USVI-etc), India, Japan, Greece, South, China, Cuba, Iran, Honduras, Philippines, Italy, Poland, Jamaica, Vietnam, Mexico, Portugal, Ireland, France, Dominican-Republic, Laos, Ecuador, Taiwan, Haiti, Columbia, Hungary, Guatemala, Nicaragua, Scotland, Thailand, Yugoslavia, El-Salvador, Trinadad&Tobago, Peru, Hong, Holand-Netherlands |\n",
    "|salary | >50K,<=50K |\n",
    "\n",
    "\n",
    "Please  complete the tasks in the Jupyter notebook by answering following 8 questions."
   ]
  },
  {
   "cell_type": "code",
   "execution_count": 33,
   "metadata": {},
   "outputs": [],
   "source": [
    "import numpy as np\n",
    "import pandas as pd\n",
    "pd.set_option('display.max.columns', 100)\n",
    "# to draw pictures in jupyter notebook\n",
    "%matplotlib inline \n",
    "import matplotlib.pyplot as plt\n",
    "import seaborn as sns\n",
    "# we don't like warnings\n",
    "# you can comment the following 2 lines if you'd like to\n",
    "import warnings\n",
    "warnings.filterwarnings('ignore')\n"
   ]
  },
  {
   "cell_type": "code",
   "execution_count": 34,
   "metadata": {},
   "outputs": [
    {
     "name": "stdout",
     "output_type": "stream",
     "text": [
      "age\n",
      " workclass\n",
      " fnlwgt\n",
      " education\n",
      " education-num\n",
      " marital-status\n",
      " occupation\n",
      " relationship\n",
      " race\n",
      " sex\n",
      " capital-gain\n",
      " capital-loss\n",
      " hours-per-week\n",
      " native-country\n",
      " salary\n"
     ]
    }
   ],
   "source": [
    "data = pd.read_csv('adult.data.csv')\n",
    "print(\"\\n\".join(data.columns))"
   ]
  },
  {
   "cell_type": "code",
   "execution_count": 35,
   "metadata": {},
   "outputs": [
    {
     "data": {
      "text/plain": [
       "(32561, 15)"
      ]
     },
     "execution_count": 35,
     "metadata": {},
     "output_type": "execute_result"
    }
   ],
   "source": [
    "data.shape"
   ]
  },
  {
   "cell_type": "code",
   "execution_count": 36,
   "metadata": {
    "scrolled": true
   },
   "outputs": [
    {
     "data": {
      "text/html": [
       "<div>\n",
       "<style scoped>\n",
       "    .dataframe tbody tr th:only-of-type {\n",
       "        vertical-align: middle;\n",
       "    }\n",
       "\n",
       "    .dataframe tbody tr th {\n",
       "        vertical-align: top;\n",
       "    }\n",
       "\n",
       "    .dataframe thead th {\n",
       "        text-align: right;\n",
       "    }\n",
       "</style>\n",
       "<table border=\"1\" class=\"dataframe\">\n",
       "  <thead>\n",
       "    <tr style=\"text-align: right;\">\n",
       "      <th></th>\n",
       "      <th>age</th>\n",
       "      <th>workclass</th>\n",
       "      <th>fnlwgt</th>\n",
       "      <th>education</th>\n",
       "      <th>education-num</th>\n",
       "      <th>marital-status</th>\n",
       "      <th>occupation</th>\n",
       "      <th>relationship</th>\n",
       "      <th>race</th>\n",
       "      <th>sex</th>\n",
       "      <th>capital-gain</th>\n",
       "      <th>capital-loss</th>\n",
       "      <th>hours-per-week</th>\n",
       "      <th>native-country</th>\n",
       "      <th>salary</th>\n",
       "    </tr>\n",
       "  </thead>\n",
       "  <tbody>\n",
       "    <tr>\n",
       "      <th>0</th>\n",
       "      <td>39</td>\n",
       "      <td>State-gov</td>\n",
       "      <td>77516</td>\n",
       "      <td>Bachelors</td>\n",
       "      <td>13</td>\n",
       "      <td>Never-married</td>\n",
       "      <td>Adm-clerical</td>\n",
       "      <td>Not-in-family</td>\n",
       "      <td>White</td>\n",
       "      <td>Male</td>\n",
       "      <td>2174</td>\n",
       "      <td>0</td>\n",
       "      <td>40</td>\n",
       "      <td>United-States</td>\n",
       "      <td>&lt;=50K</td>\n",
       "    </tr>\n",
       "    <tr>\n",
       "      <th>1</th>\n",
       "      <td>50</td>\n",
       "      <td>Self-emp-not-inc</td>\n",
       "      <td>83311</td>\n",
       "      <td>Bachelors</td>\n",
       "      <td>13</td>\n",
       "      <td>Married-civ-spouse</td>\n",
       "      <td>Exec-managerial</td>\n",
       "      <td>Husband</td>\n",
       "      <td>White</td>\n",
       "      <td>Male</td>\n",
       "      <td>0</td>\n",
       "      <td>0</td>\n",
       "      <td>13</td>\n",
       "      <td>United-States</td>\n",
       "      <td>&lt;=50K</td>\n",
       "    </tr>\n",
       "    <tr>\n",
       "      <th>2</th>\n",
       "      <td>38</td>\n",
       "      <td>Private</td>\n",
       "      <td>215646</td>\n",
       "      <td>HS-grad</td>\n",
       "      <td>9</td>\n",
       "      <td>Divorced</td>\n",
       "      <td>Handlers-cleaners</td>\n",
       "      <td>Not-in-family</td>\n",
       "      <td>White</td>\n",
       "      <td>Male</td>\n",
       "      <td>0</td>\n",
       "      <td>0</td>\n",
       "      <td>40</td>\n",
       "      <td>United-States</td>\n",
       "      <td>&lt;=50K</td>\n",
       "    </tr>\n",
       "    <tr>\n",
       "      <th>3</th>\n",
       "      <td>53</td>\n",
       "      <td>Private</td>\n",
       "      <td>234721</td>\n",
       "      <td>11th</td>\n",
       "      <td>7</td>\n",
       "      <td>Married-civ-spouse</td>\n",
       "      <td>Handlers-cleaners</td>\n",
       "      <td>Husband</td>\n",
       "      <td>Black</td>\n",
       "      <td>Male</td>\n",
       "      <td>0</td>\n",
       "      <td>0</td>\n",
       "      <td>40</td>\n",
       "      <td>United-States</td>\n",
       "      <td>&lt;=50K</td>\n",
       "    </tr>\n",
       "    <tr>\n",
       "      <th>4</th>\n",
       "      <td>28</td>\n",
       "      <td>Private</td>\n",
       "      <td>338409</td>\n",
       "      <td>Bachelors</td>\n",
       "      <td>13</td>\n",
       "      <td>Married-civ-spouse</td>\n",
       "      <td>Prof-specialty</td>\n",
       "      <td>Wife</td>\n",
       "      <td>Black</td>\n",
       "      <td>Female</td>\n",
       "      <td>0</td>\n",
       "      <td>0</td>\n",
       "      <td>40</td>\n",
       "      <td>Cuba</td>\n",
       "      <td>&lt;=50K</td>\n",
       "    </tr>\n",
       "  </tbody>\n",
       "</table>\n",
       "</div>"
      ],
      "text/plain": [
       "   age          workclass   fnlwgt   education   education-num  \\\n",
       "0   39          State-gov    77516   Bachelors              13   \n",
       "1   50   Self-emp-not-inc    83311   Bachelors              13   \n",
       "2   38            Private   215646     HS-grad               9   \n",
       "3   53            Private   234721        11th               7   \n",
       "4   28            Private   338409   Bachelors              13   \n",
       "\n",
       "        marital-status          occupation    relationship    race      sex  \\\n",
       "0        Never-married        Adm-clerical   Not-in-family   White     Male   \n",
       "1   Married-civ-spouse     Exec-managerial         Husband   White     Male   \n",
       "2             Divorced   Handlers-cleaners   Not-in-family   White     Male   \n",
       "3   Married-civ-spouse   Handlers-cleaners         Husband   Black     Male   \n",
       "4   Married-civ-spouse      Prof-specialty            Wife   Black   Female   \n",
       "\n",
       "    capital-gain   capital-loss   hours-per-week  native-country  salary  \n",
       "0           2174              0               40   United-States   <=50K  \n",
       "1              0              0               13   United-States   <=50K  \n",
       "2              0              0               40   United-States   <=50K  \n",
       "3              0              0               40   United-States   <=50K  \n",
       "4              0              0               40            Cuba   <=50K  "
      ]
     },
     "execution_count": 36,
     "metadata": {},
     "output_type": "execute_result"
    }
   ],
   "source": [
    "data.head()"
   ]
  },
  {
   "cell_type": "markdown",
   "metadata": {},
   "source": [
    "### 1. How many men and women (sex feature) are represented in this dataset?"
   ]
  },
  {
   "cell_type": "code",
   "execution_count": 28,
   "metadata": {},
   "outputs": [
    {
     "name": "stdout",
     "output_type": "stream",
     "text": [
      "Men and women represented in this dataset:\n"
     ]
    },
    {
     "data": {
      "text/plain": [
       " Male      21790\n",
       " Female    10771\n",
       "Name:  sex, dtype: int64"
      ]
     },
     "execution_count": 28,
     "metadata": {},
     "output_type": "execute_result"
    }
   ],
   "source": [
    "# You answer (code + results)\n",
    "import numpy as np\n",
    "import pandas as pd\n",
    "pd.set_option('display.max.columns', 100)\n",
    "# to draw pictures in jupyter notebook\n",
    "%matplotlib inline \n",
    "import matplotlib.pyplot as plt\n",
    "import seaborn as sns\n",
    "# we don't like warnings\n",
    "# you can comment the following 2 lines if you'd like to\n",
    "import warnings\n",
    "warnings.filterwarnings('ignore')\n",
    "data = pd.read_csv('adult.data.csv')\n",
    "\n",
    "print(\"Men and women represented in this dataset:\")\n",
    "data[' sex'].value_counts()"
   ]
  },
  {
   "cell_type": "markdown",
   "metadata": {},
   "source": [
    "### 2. What is the average age (age feature) of women?"
   ]
  },
  {
   "cell_type": "code",
   "execution_count": 20,
   "metadata": {},
   "outputs": [
    {
     "name": "stdout",
     "output_type": "stream",
     "text": [
      "Average Women Age: 36.85823043357163\n"
     ]
    }
   ],
   "source": [
    "# You answer (code + results)\n",
    "import numpy as np\n",
    "import pandas as pd\n",
    "pd.set_option('display.max.columns', 100)\n",
    "# to draw pictures in jupyter notebook\n",
    "%matplotlib inline \n",
    "import matplotlib.pyplot as plt\n",
    "import seaborn as sns\n",
    "# we don't like warnings\n",
    "# you can comment the following 2 lines if you'd like to\n",
    "import warnings\n",
    "warnings.filterwarnings('ignore')\n",
    "data = pd.read_csv('adult.data.csv')\n",
    "\n",
    "women = data.groupby(' sex').age.mean()\n",
    "print(\"Average Women Age:\", women[' Female'])"
   ]
  },
  {
   "cell_type": "markdown",
   "metadata": {},
   "source": [
    "### 3. What is the percentage of German citizens (native-country feature)?\n"
   ]
  },
  {
   "cell_type": "code",
   "execution_count": 19,
   "metadata": {},
   "outputs": [
    {
     "name": "stdout",
     "output_type": "stream",
     "text": [
      "Percentage of German citizens: 0.42074874850281013\n"
     ]
    }
   ],
   "source": [
    "# You answer (code + results)\n",
    "Ger = data[data[' native-country'] == ' Germany'].count()\n",
    "cnt = data[' native-country'].count()\n",
    "per = (Ger/cnt) * 100\n",
    "\n",
    "print(\"Percentage of German citizens:\", per[' native-country'])\n"
   ]
  },
  {
   "cell_type": "markdown",
   "metadata": {},
   "source": [
    "###  4. What are the mean and standard deviation of age for those who earn more than 50K per year (salary feature) and those who earn less than 50K per year?"
   ]
  },
  {
   "cell_type": "code",
   "execution_count": 18,
   "metadata": {},
   "outputs": [
    {
     "name": "stdout",
     "output_type": "stream",
     "text": [
      "Mean of age for those who earn more than 50K per year: 44.24984058155847\n",
      "Mean of age for those who earn more less 50K per year: 36.78373786407767\n",
      "Standard deviation of age for those who earn more than 50K per year: 10.51902771985177\n",
      "Standard deviation of age for those who earn less than 50K per year: 14.020088490824813\n"
     ]
    }
   ],
   "source": [
    "# You answer (code + results)\n",
    "more = data[data[' salary'] == ' >50K']\n",
    "less = data[data[' salary'] == ' <=50K']\n",
    "\n",
    "print(\"Mean of age for those who earn more than 50K per year:\", more.age.mean())\n",
    "print(\"Mean of age for those who earn more less 50K per year:\", less.age.mean())\n",
    "\n",
    "print(\"Standard deviation of age for those who earn more than 50K per year:\", more.age.std())\n",
    "print(\"Standard deviation of age for those who earn less than 50K per year:\", less.age.std())"
   ]
  },
  {
   "cell_type": "markdown",
   "metadata": {},
   "source": [
    "### 5. Is it true that people who earn more than 50K have at least high school education? (education – Bachelors, Prof-school, Assoc-acdm, Assoc-voc, Masters or Doctorate feature)"
   ]
  },
  {
   "cell_type": "code",
   "execution_count": 11,
   "metadata": {},
   "outputs": [
    {
     "name": "stdout",
     "output_type": "stream",
     "text": [
      "Is it true that people who earn more than 50K have at least high school education?: False\n"
     ]
    }
   ],
   "source": [
    "# You answer (code + results)\n",
    "\n",
    "more = data[data[' salary'] == ' >50K']\n",
    "ed = more[more[' education'] == ' 9th']\n",
    "\n",
    "print(\"Is it true that people who earn more than 50K have at least high school education?:\", ed.empty)"
   ]
  },
  {
   "cell_type": "markdown",
   "metadata": {},
   "source": [
    "### 6.  Display age statistics for each race (race feature) and each gender (sex feature). "
   ]
  },
  {
   "cell_type": "markdown",
   "metadata": {},
   "source": [
    "Hint: Use `groupby()` and `describe()` functions of DataFrame. Find the maximum age of men of Amer-Indian-Eskimo race."
   ]
  },
  {
   "cell_type": "code",
   "execution_count": 10,
   "metadata": {},
   "outputs": [
    {
     "name": "stdout",
     "output_type": "stream",
     "text": [
      "                               count       mean        std   min   25%   50%  \\\n",
      " race                sex                                                       \n",
      " Amer-Indian-Eskimo  Female    119.0  37.117647  13.114991  17.0  27.0  36.0   \n",
      "                     Male      192.0  37.208333  12.049563  17.0  28.0  35.0   \n",
      " Asian-Pac-Islander  Female    346.0  35.089595  12.300845  17.0  25.0  33.0   \n",
      "                     Male      693.0  39.073593  12.883944  18.0  29.0  37.0   \n",
      " Black               Female   1555.0  37.854019  12.637197  17.0  28.0  37.0   \n",
      "                     Male     1569.0  37.682600  12.882612  17.0  27.0  36.0   \n",
      " Other               Female    109.0  31.678899  11.631599  17.0  23.0  29.0   \n",
      "                     Male      162.0  34.654321  11.355531  17.0  26.0  32.0   \n",
      " White               Female   8642.0  36.811618  14.329093  17.0  25.0  35.0   \n",
      "                     Male    19174.0  39.652498  13.436029  17.0  29.0  38.0   \n",
      "\n",
      "                               75%   max  \n",
      " race                sex                  \n",
      " Amer-Indian-Eskimo  Female  46.00  80.0  \n",
      "                     Male    45.00  82.0  \n",
      " Asian-Pac-Islander  Female  43.75  75.0  \n",
      "                     Male    46.00  90.0  \n",
      " Black               Female  46.00  90.0  \n",
      "                     Male    46.00  90.0  \n",
      " Other               Female  39.00  74.0  \n",
      "                     Male    42.00  77.0  \n",
      " White               Female  46.00  90.0  \n",
      "                     Male    49.00  90.0  \n",
      "Maximum age of men of Amer-Indian-Eskimo: 82\n"
     ]
    }
   ],
   "source": [
    "# You answer (code + results)\n",
    "import numpy as np\n",
    "import pandas as pd\n",
    "pd.set_option('display.max.columns', 100)\n",
    "# to draw pictures in jupyter notebook\n",
    "%matplotlib inline \n",
    "import matplotlib.pyplot as plt\n",
    "import seaborn as sns\n",
    "# we don't like warnings\n",
    "# you can comment the following 2 lines if you'd like to\n",
    "import warnings\n",
    "warnings.filterwarnings('ignore')\n",
    "data = pd.read_csv('adult.data.csv')\n",
    "\n",
    "grp = data.groupby([' race', ' sex'])\n",
    "print(grp['age'].describe())\n",
    "esk = data[data[' race'] == ' Amer-Indian-Eskimo']\n",
    "eskmen = esk[esk[' sex'] == ' Male']\n",
    "maxAge = eskmen['age']\n",
    "print(\"Maximum age of men of Amer-Indian-Eskimo:\", maxAge.max())"
   ]
  },
  {
   "cell_type": "markdown",
   "metadata": {},
   "source": [
    "### 7. What is the maximum number of hours a person works per week (hours-per-week feature)? How many people work such a number of hours, and what is the percentage of those who earn a lot (>50K) among them?\n"
   ]
  },
  {
   "cell_type": "code",
   "execution_count": 26,
   "metadata": {},
   "outputs": [
    {
     "name": "stdout",
     "output_type": "stream",
     "text": [
      "Max Hours a person works per week: 99\n",
      "People who worked 99 hours: 85\n",
      "Percentage who earn a lot: 29.411764705882355\n"
     ]
    }
   ],
   "source": [
    "# You answer (code + results)\n",
    "import numpy as np\n",
    "import pandas as pd\n",
    "pd.set_option('display.max.columns', 100)\n",
    "# to draw pictures in jupyter notebook\n",
    "%matplotlib inline \n",
    "import matplotlib.pyplot as plt\n",
    "import seaborn as sns\n",
    "# we don't like warnings\n",
    "# you can comment the following 2 lines if you'd like to\n",
    "import warnings\n",
    "warnings.filterwarnings('ignore')\n",
    "data = pd.read_csv('adult.data.csv')\n",
    "\n",
    "hrs = data[' hours-per-week'].max()\n",
    "print(\"Max Hours a person works per week:\", hrs)\n",
    "\n",
    "ppl = data[' hours-per-week'] == 99\n",
    "cnt = data[data[' hours-per-week'] == 99]\n",
    "lppl= ppl.sum()\n",
    "lpplhigh = cnt[cnt[' salary'] == ' >50K']\n",
    "lpplhigh = lpplhigh['age'].count()\n",
    "\n",
    "print(\"People who worked 99 hours:\", lppl)\n",
    "per = (lpplhigh/ lppl) *100\n",
    "print(\"Percentage who earn a lot:\", per)"
   ]
  },
  {
   "cell_type": "markdown",
   "metadata": {},
   "source": [
    "### 8. Count the average time of work (hours-per-week) for those who earn a little and a lot (salary) for each country (native-country). What will these be for Japan?"
   ]
  },
  {
   "cell_type": "code",
   "execution_count": 22,
   "metadata": {},
   "outputs": [
    {
     "name": "stdout",
     "output_type": "stream",
     "text": [
      "Average time of work for those who earn little:  native-country\n",
      " ?                             40.164760\n",
      " Cambodia                      41.416667\n",
      " Canada                        37.914634\n",
      " China                         37.381818\n",
      " Columbia                      38.684211\n",
      " Cuba                          37.985714\n",
      " Dominican-Republic            42.338235\n",
      " Ecuador                       38.041667\n",
      " El-Salvador                   36.030928\n",
      " England                       40.483333\n",
      " France                        41.058824\n",
      " Germany                       39.139785\n",
      " Greece                        41.809524\n",
      " Guatemala                     39.360656\n",
      " Haiti                         36.325000\n",
      " Holand-Netherlands            40.000000\n",
      " Honduras                      34.333333\n",
      " Hong                          39.142857\n",
      " Hungary                       31.300000\n",
      " India                         38.233333\n",
      " Iran                          41.440000\n",
      " Ireland                       40.947368\n",
      " Italy                         39.625000\n",
      " Jamaica                       38.239437\n",
      " Japan                         41.000000\n",
      " Laos                          40.375000\n",
      " Mexico                        40.003279\n",
      " Nicaragua                     36.093750\n",
      " Outlying-US(Guam-USVI-etc)    41.857143\n",
      " Peru                          35.068966\n",
      " Philippines                   38.065693\n",
      " Poland                        38.166667\n",
      " Portugal                      41.939394\n",
      " Puerto-Rico                   38.470588\n",
      " Scotland                      39.444444\n",
      " South                         40.156250\n",
      " Taiwan                        33.774194\n",
      " Thailand                      42.866667\n",
      " Trinadad&Tobago               37.058824\n",
      " United-States                 38.799127\n",
      " Vietnam                       37.193548\n",
      " Yugoslavia                    41.600000\n",
      "Name:  hours-per-week, dtype: float64\n",
      "Average time of work for those who earn a lot:  native-country\n",
      " ?                     45.547945\n",
      " Cambodia              40.000000\n",
      " Canada                45.641026\n",
      " China                 38.900000\n",
      " Columbia              50.000000\n",
      " Cuba                  42.440000\n",
      " Dominican-Republic    47.000000\n",
      " Ecuador               48.750000\n",
      " El-Salvador           45.000000\n",
      " England               44.533333\n",
      " France                50.750000\n",
      " Germany               44.977273\n",
      " Greece                50.625000\n",
      " Guatemala             36.666667\n",
      " Haiti                 42.750000\n",
      " Honduras              60.000000\n",
      " Hong                  45.000000\n",
      " Hungary               50.000000\n",
      " India                 46.475000\n",
      " Iran                  47.500000\n",
      " Ireland               48.000000\n",
      " Italy                 45.400000\n",
      " Jamaica               41.100000\n",
      " Japan                 47.958333\n",
      " Laos                  40.000000\n",
      " Mexico                46.575758\n",
      " Nicaragua             37.500000\n",
      " Peru                  40.000000\n",
      " Philippines           43.032787\n",
      " Poland                39.000000\n",
      " Portugal              41.500000\n",
      " Puerto-Rico           39.416667\n",
      " Scotland              46.666667\n",
      " South                 51.437500\n",
      " Taiwan                46.800000\n",
      " Thailand              58.333333\n",
      " Trinadad&Tobago       40.000000\n",
      " United-States         45.505369\n",
      " Vietnam               39.200000\n",
      " Yugoslavia            49.500000\n",
      "Name:  hours-per-week, dtype: float64\n",
      "Japan average work hours with low salary:  41.0\n",
      "Japan average work hours with high salary:  47.958333333333336\n"
     ]
    }
   ],
   "source": [
    "# You answer (code + results)\n",
    "little = data[data[' salary'] == ' <=50K']\n",
    "lot = data[data[' salary'] == ' >50K']\n",
    "countryli = little.groupby(' native-country')\n",
    "countrylo = lot.groupby(' native-country')\n",
    "print(\"Average time of work for those who earn little:\", countryli[' hours-per-week'].mean())\n",
    "print(\"Average time of work for those who earn a lot:\", countrylo[' hours-per-week'].mean())\n",
    "\n",
    "japanli = little[little[' native-country'] == ' Japan']\n",
    "japanlo = lot[lot[' native-country'] == ' Japan']\n",
    "print(\"Japan average time of work for those who earn little:\", japanli[' hours-per-week'].mean())\n",
    "print(\"Japan average time of work for those who earn a lot:\", japanlo[' hours-per-week'].mean())"
   ]
  },
  {
   "cell_type": "code",
   "execution_count": null,
   "metadata": {},
   "outputs": [],
   "source": []
  }
 ],
 "metadata": {
  "kernelspec": {
   "display_name": "Python 3",
   "language": "python",
   "name": "python3"
  },
  "language_info": {
   "codemirror_mode": {
    "name": "ipython",
    "version": 3
   },
   "file_extension": ".py",
   "mimetype": "text/x-python",
   "name": "python",
   "nbconvert_exporter": "python",
   "pygments_lexer": "ipython3",
   "version": "3.8.5"
  }
 },
 "nbformat": 4,
 "nbformat_minor": 4
}
